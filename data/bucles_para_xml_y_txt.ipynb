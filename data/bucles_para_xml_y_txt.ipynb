{
 "cells": [
  {
   "cell_type": "markdown",
   "metadata": {},
   "source": [
    "## Fichero TXT"
   ]
  },
  {
   "cell_type": "markdown",
   "metadata": {},
   "source": [
    "Para poder realizar los ejercicios pedidos para el fichero txt se realizará un bucle for con dichas funciones:"
   ]
  },
  {
   "cell_type": "code",
   "execution_count": null,
   "metadata": {},
   "outputs": [],
   "source": [
    "with open('/mnt/c/Users/silvia/Desktop/data_txt.txt','r') as file:\n",
    "    file_source = file.readlines() # Es una lista que cada línea del fichero txt como un string de todos los datos."
   ]
  },
  {
   "cell_type": "code",
   "execution_count": null,
   "metadata": {},
   "outputs": [],
   "source": [
    "# Miramos el rango de nuestro fichero\n",
    "range(0,len(file_source))"
   ]
  },
  {
   "cell_type": "code",
   "execution_count": null,
   "metadata": {},
   "outputs": [],
   "source": [
    "# Empezamos el bucle for:\n",
    "\n",
    "for i in range(0,len(file_source)):\n",
    "    file_source1= file_source[i].replace(\"null\",\"NULL\").replace(\"<\",\"under\").replace(\"\\n\",\"\").split(\";\")"
   ]
  },
  {
   "cell_type": "code",
   "execution_count": null,
   "metadata": {},
   "outputs": [],
   "source": [
    "# Llamamos a la variable creada en el bucle para ver el resultado que nos muestra\n",
    "\n",
    "# Dicha variable la sustituiremos por la variable principal \"file_source\" cuando estemos seguros que todo está correcto.\n",
    "\n",
    "file_source1"
   ]
  },
  {
   "cell_type": "markdown",
   "metadata": {},
   "source": [
    "## Fichero XML"
   ]
  },
  {
   "cell_type": "markdown",
   "metadata": {},
   "source": [
    "Para poder realizar los ejercicios pedidos para el fichero xml se realizará un bucle for con dichas funciones:"
   ]
  },
  {
   "cell_type": "code",
   "execution_count": null,
   "metadata": {},
   "outputs": [],
   "source": [
    "import re\n",
    "import os\n",
    "import xml.etree.ElementTree as ET\n",
    "\n",
    "tree = ET.parse('./data/data_xml.xml')\n",
    "root = tree.getroot()\n",
    "\n",
    "\n",
    "xml_list = []\n",
    "for child in root:\n",
    "    xml_dict = {}\n",
    "    for subchild in child:\n",
    "        xml_dict[subchild.tag] = subchild.text\n",
    "    xml_list.append(xml_dict) # Es una lista que contiene diccionarios"
   ]
  },
  {
   "cell_type": "code",
   "execution_count": null,
   "metadata": {},
   "outputs": [],
   "source": [
    "# Hacemos el bucle para conseguir los datos que tenemos que incluir en la base de datos\n",
    "# Con pop primero eliminamos la columna redundante level_0\n",
    "# Cambiamos la columna gender por la codificación específica if-elif\n",
    "# Insertamos la columna index_sql\n",
    "for item in xml_list:\n",
    "    item.pop(\"level_0\", \"No existe\") # por si level_0 no existe\n",
    "    item[\"index\"] = int(item[\"index\"])\n",
    "    if item[\"gender\"] == '0':\n",
    "        item.update({\"gender\": \"Man\"})\n",
    "    elif item[\"gender\"] == '1':\n",
    "        item.update({\"gender\": \"Woman\"})\n",
    "    elif item[\"gender\"] == '2':\n",
    "        item.update({\"gender\": \"Nonbinary\"})\n",
    "    elif item[\"gender\"] == '3':\n",
    "        item.update({\"gender\": \"Prefer not to say\"})\n",
    "    elif item[\"gender\"] == '4':\n",
    "        item.update({\"gender\": \"Prefer to self-describe\"})\n",
    "    item.setdefault(\"index_sql\", int(item[\"index\"]))"
   ]
  },
  {
   "cell_type": "code",
   "execution_count": null,
   "metadata": {},
   "outputs": [],
   "source": [
    "xml_list"
   ]
  }
 ],
 "metadata": {
  "kernelspec": {
   "display_name": "Python 3.9.7 ('base')",
   "language": "python",
   "name": "python3"
  },
  "language_info": {
   "name": "python",
   "version": "3.9.7"
  },
  "orig_nbformat": 4,
  "vscode": {
   "interpreter": {
    "hash": "6e8aefa1bb798882dbdb84db5119449300b1df017c6fd8f01a2c188a17dff6eb"
   }
  }
 },
 "nbformat": 4,
 "nbformat_minor": 2
}
