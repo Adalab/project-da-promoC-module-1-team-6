{
 "cells": [
  {
   "cell_type": "markdown",
   "metadata": {},
   "source": [
    "## Fichero TXT"
   ]
  },
  {
   "cell_type": "markdown",
   "metadata": {},
   "source": [
    "Para poder realizar los ejercicios pedidos para el fichero txt se realizará un bucle for con dichas funciones:"
   ]
  },
  {
   "cell_type": "code",
   "execution_count": 1,
   "metadata": {},
   "outputs": [],
   "source": [
    "with open('data_txt.txt','r') as file:\n",
    "    file_source = file.readlines() # Es una lista que cada línea del fichero txt como un string de todos los datos."
   ]
  },
  {
   "cell_type": "code",
   "execution_count": 2,
   "metadata": {},
   "outputs": [],
   "source": [
    "# convertimos en lista las filas y reemplazamos null por NULL, reemplazamos < por under y quitamos \\n\n",
    "for i in file_source:\n",
    "    file_source[file_source.index(i)] = file_source[file_source.index(i)].replace(\"null\",\"NULL\").replace(\"<\",\"under\").replace(\"\\n\",\"\").split(\";\")"
   ]
  },
  {
   "cell_type": "code",
   "execution_count": 3,
   "metadata": {},
   "outputs": [],
   "source": [
    "# quitar los espacios delante y detrás\n",
    "for i in file_source:\n",
    "    for n in i:\n",
    "        i[i.index(n)] = n.strip()"
   ]
  },
  {
   "cell_type": "code",
   "execution_count": 4,
   "metadata": {},
   "outputs": [
    {
     "data": {
      "text/plain": [
       "['1',\n",
       " 'Indonesia',\n",
       " 'Master’s degree',\n",
       " 'Program/Project Manager',\n",
       " '20+ years',\n",
       " 'NULL, SQL, C, C++, Java',\n",
       " 'Python',\n",
       " 'NULL,   Notepad++  ,  Jupyter Notebook',\n",
       " 'A cloud computing platform (AWS, Azure, GCP, hosted notebooks, etc)',\n",
       " 'NULL, None',\n",
       " 'Never',\n",
       " 'Matplotlib',\n",
       " 'Under 1 year',\n",
       " 'Scikit-learn',\n",
       " 'Linear or Logistic Regression, Decision Trees or Random Forests',\n",
       " 'Manufacturing/Fabrication',\n",
       " '1000-9,999 employees',\n",
       " '1-2',\n",
       " 'We are exploring ML methods (and may one day put a model into production)',\n",
       " 'NULL, Build and/or run the data infrastructure that my business uses for storing, analyzing, and operationalizing data',\n",
       " '60,000-69,999',\n",
       " '$0 ($USD)',\n",
       " '',\n",
       " '',\n",
       " '',\n",
       " '',\n",
       " 'Advanced statistical software (SPSS, SAS, etc.)']"
      ]
     },
     "execution_count": 4,
     "metadata": {},
     "output_type": "execute_result"
    }
   ],
   "source": [
    "file_source[1]"
   ]
  },
  {
   "cell_type": "markdown",
   "metadata": {},
   "source": [
    "### DEFINIENDO FUNCIONES"
   ]
  },
  {
   "cell_type": "code",
   "execution_count": 1,
   "metadata": {},
   "outputs": [],
   "source": [
    "# convertimos en lista las filas y reemplazamos null por NULL, reemplazamos < por under y quitamos \\n\n",
    "def corregir_errores(lst):\n",
    "    for i in lst:\n",
    "        lst[lst.index(i)] = lst[lst.index(i)].replace(\"null\",\"NULL\").replace(\"<\",\"under\").replace(\"\\n\",\"\").split(\";\")\n",
    "# Quitamos los espacios antes y después de los strings\n",
    "    for i in lst:\n",
    "        for n in i:\n",
    "            i[i.index(n)] = n.strip()\n",
    "    return lst"
   ]
  },
  {
   "cell_type": "markdown",
   "metadata": {},
   "source": [
    "## Fichero XML"
   ]
  },
  {
   "cell_type": "markdown",
   "metadata": {},
   "source": [
    "Para poder realizar los ejercicios pedidos para el fichero xml se realizará un bucle for con dichas funciones:"
   ]
  },
  {
   "cell_type": "code",
   "execution_count": 5,
   "metadata": {},
   "outputs": [],
   "source": [
    "import re\n",
    "import os\n",
    "import xml.etree.ElementTree as ET\n",
    "\n",
    "tree = ET.parse('data_xml.xml')\n",
    "root = tree.getroot()\n",
    "\n",
    "\n",
    "xml_list = []\n",
    "for child in root:\n",
    "    xml_dict = {}\n",
    "    for subchild in child:\n",
    "        xml_dict[subchild.tag] = subchild.text\n",
    "    xml_list.append(xml_dict) # Es una lista que contiene diccionarios"
   ]
  },
  {
   "cell_type": "code",
   "execution_count": 6,
   "metadata": {},
   "outputs": [],
   "source": [
    "# Hacemos el bucle para conseguir los datos que tenemos que incluir en la base de datos\n",
    "# Con pop primero eliminamos la columna redundante level_0\n",
    "# Cambiamos la columna gender por la codificación específica if-elif\n",
    "# Insertamos la columna index_sql\n",
    "for item in xml_list:\n",
    "    item.pop(\"level_0\", \"No existe\") # por si level_0 no existe\n",
    "    item[\"index\"] = int(item[\"index\"])\n",
    "    if item[\"gender\"] == '0':\n",
    "        item.update({\"gender\": \"Man\"})\n",
    "    elif item[\"gender\"] == '1':\n",
    "        item.update({\"gender\": \"Woman\"})\n",
    "    elif item[\"gender\"] == '2':\n",
    "        item.update({\"gender\": \"Nonbinary\"})\n",
    "    elif item[\"gender\"] == '3':\n",
    "        item.update({\"gender\": \"Prefer not to say\"})\n",
    "    elif item[\"gender\"] == '4':\n",
    "        item.update({\"gender\": \"Prefer to self-describe\"})\n",
    "    item.setdefault(\"index_sql\", int(item[\"index\"]))"
   ]
  },
  {
   "cell_type": "code",
   "execution_count": 7,
   "metadata": {},
   "outputs": [
    {
     "data": {
      "text/plain": [
       "{'index': 2, 'time': '924', 'age': '22-24', 'gender': 'Man', 'index_sql': 2}"
      ]
     },
     "execution_count": 7,
     "metadata": {},
     "output_type": "execute_result"
    }
   ],
   "source": [
    "xml_list[1]"
   ]
  }
 ],
 "metadata": {
  "kernelspec": {
   "display_name": "Python 3.9.7 ('base')",
   "language": "python",
   "name": "python3"
  },
  "language_info": {
   "codemirror_mode": {
    "name": "ipython",
    "version": 3
   },
   "file_extension": ".py",
   "mimetype": "text/x-python",
   "name": "python",
   "nbconvert_exporter": "python",
   "pygments_lexer": "ipython3",
   "version": "3.9.7"
  },
  "orig_nbformat": 4,
  "vscode": {
   "interpreter": {
    "hash": "f25093244bacc7e62393c275f4a06a2027bcbdb9a67d7fe53680dbd2484adc03"
   }
  }
 },
 "nbformat": 4,
 "nbformat_minor": 2
}
